{
 "cells": [
  {
   "cell_type": "code",
   "execution_count": 1,
   "id": "dd0da942-c25d-42c0-aa53-d759b0c38ad0",
   "metadata": {},
   "outputs": [],
   "source": [
    "from pathlib import Path\n",
    "import numpy as np\n",
    "import librosa"
   ]
  },
  {
   "cell_type": "code",
   "execution_count": 2,
   "id": "6d97f229-a4ea-4dfc-93c1-11bfde27d486",
   "metadata": {},
   "outputs": [],
   "source": [
    "p = Path()\n",
    "p = p/'..'/'references'\n",
    "\n",
    "ref_path = str(p.absolute())\n",
    "\n",
    "p = Path()\n",
    "p = p/'..'/'data'\n",
    "\n",
    "data_path = str(p.absolute())"
   ]
  },
  {
   "cell_type": "code",
   "execution_count": 3,
   "id": "1d4ea189-edb5-4364-84f4-65d98239b450",
   "metadata": {},
   "outputs": [],
   "source": [
    "with open(ref_path+'/dict_train.txt', mode='r') as f:\n",
    "    s_train = f.read()\n",
    "    \n",
    "with open(ref_path+'/dict_test.txt', mode='r') as f:\n",
    "    s_test = f.read()\n",
    "    \n",
    "tmp1 = s_train.split()\n",
    "tmp2 = s_test.split()\n",
    "\n",
    "dict_train = []\n",
    "dict_test = []\n",
    "\n",
    "for i in range(len(tmp1)):\n",
    "    dict_train.append(tmp1[i].split(':'))\n",
    "    \n",
    "for i in range(len(tmp2)):\n",
    "    dict_test.append(tmp2[i].split(':'))"
   ]
  },
  {
   "cell_type": "code",
   "execution_count": 4,
   "id": "ba7c12c1-02dc-4c06-bbe5-b1f07954c180",
   "metadata": {},
   "outputs": [],
   "source": [
    "dict_train = np.array(dict_train)\n",
    "dict_test = np.array(dict_test)"
   ]
  },
  {
   "cell_type": "code",
   "execution_count": 5,
   "id": "fc90710f-8d6c-4bd6-9177-c58450914397",
   "metadata": {},
   "outputs": [],
   "source": [
    "def load_wave(which, fileName):\n",
    "    x, fs = librosa.load(data_path+'/external/'+which+fileName+'.wav', sr=16000)\n",
    "    return x,fs\n",
    "\n",
    "def calc_melspec(x, n_fft=1024, hop_length=128):\n",
    "    stft = np.abs(librosa.stft(x, n_fft=n_fft, hop_length=hop_length))**2\n",
    "    log_stft = librosa.power_to_db(stft)\n",
    "    mlsp = librosa.feature.melspectrogram(S=log_stft,n_mels=128)\n",
    "    return mlsp"
   ]
  },
  {
   "cell_type": "code",
   "execution_count": 6,
   "id": "1c9abe74-a7da-47a8-aadf-30844a77bba4",
   "metadata": {},
   "outputs": [],
   "source": [
    "for i in range(len(dict_train)):\n",
    "    fileName = dict_train[i][0]\n",
    "    \n",
    "    x, fs = load_wave('train/keyboard/', fileName)\n",
    "    mlsp = calc_melspec(x)\n",
    "    \n",
    "    np.save(data_path+'/processed/train/'+fileName, mlsp)\n",
    "    \n",
    "for i in range(len(dict_test)):\n",
    "    fileName = dict_test[i][0]\n",
    "    \n",
    "    x, fs = load_wave('test/keyboard/', fileName)\n",
    "    mlsp = calc_melspec(x)\n",
    "    \n",
    "    np.save(data_path+'/processed/test/'+fileName, mlsp)"
   ]
  }
 ],
 "metadata": {
  "kernelspec": {
   "display_name": "Python 3 (ipykernel)",
   "language": "python",
   "name": "python3"
  },
  "language_info": {
   "codemirror_mode": {
    "name": "ipython",
    "version": 3
   },
   "file_extension": ".py",
   "mimetype": "text/x-python",
   "name": "python",
   "nbconvert_exporter": "python",
   "pygments_lexer": "ipython3",
   "version": "3.9.5"
  }
 },
 "nbformat": 4,
 "nbformat_minor": 5
}
