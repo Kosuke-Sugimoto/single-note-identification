{
 "cells": [
  {
   "cell_type": "code",
   "execution_count": 12,
   "id": "c0ea9880-718f-4f33-99c5-b33375bdcca1",
   "metadata": {},
   "outputs": [],
   "source": [
    "from pathlib import Path"
   ]
  },
  {
   "cell_type": "code",
   "execution_count": 13,
   "id": "e46f56f8-cb4d-4490-8830-4eef41dc57de",
   "metadata": {},
   "outputs": [],
   "source": [
    "p = Path()\n",
    "p = p/'..'/'references'\n",
    "\n",
    "ref_path = str(p.absolute())"
   ]
  },
  {
   "cell_type": "code",
   "execution_count": 14,
   "id": "9717ee3e-4c0c-49c9-9070-3da5b89fcf4f",
   "metadata": {},
   "outputs": [],
   "source": [
    "with open(ref_path+'/examples_train.json', mode='r') as f:\n",
    "    l_train = [s.strip() for s in f.readlines()]\n",
    "    \n",
    "with open(ref_path+'/examples_test.json', mode='r') as f:\n",
    "    l_test = [s.strip() for s in f.readlines()]"
   ]
  },
  {
   "cell_type": "code",
   "execution_count": 15,
   "id": "11db9f79-1cf3-4464-aea7-399294d61a0c",
   "metadata": {},
   "outputs": [],
   "source": [
    "names_train = []\n",
    "pitchs_train = []\n",
    "names_test = []\n",
    "pitchs_test = []\n",
    "\n",
    "for i in range(len(l_train)):\n",
    "    if (i!=len(l_train)-1) :\n",
    "        if (l_train[i]=='},') & ('keyboard' in l_train[i+1]):\n",
    "            names_train.append(l_train[i+1])\n",
    "            pitchs_train.append(l_train[i+4])\n",
    "            \n",
    "for i in range(len(l_test)):\n",
    "    if (i!=len(l_test)-1) :\n",
    "        if (l_test[i]=='},') & ('keyboard' in l_test[i+1]):\n",
    "            names_test.append(l_test[i+1])\n",
    "            pitchs_test.append(l_test[i+14])"
   ]
  },
  {
   "cell_type": "code",
   "execution_count": 16,
   "id": "5eace7da-d25a-422a-a584-b2365dcdf976",
   "metadata": {},
   "outputs": [],
   "source": [
    "trim_names_train = []\n",
    "trim_pitchs_train = []\n",
    "trim_names_test = []\n",
    "trim_pitchs_test = []\n",
    "\n",
    "for i in range(len(names_train)):\n",
    "    len_names_train = len(names_train[i])\n",
    "    len_pitchs_train = len(pitchs_train[i])\n",
    "    \n",
    "    trim_names_train.append(names_train[i][1:len_names_train-4])\n",
    "    trim_pitchs_train.append(pitchs_train[i][9:len_pitchs_train-1])\n",
    "    \n",
    "for i in range(len(names_test)):\n",
    "    len_names_test = len(names_test[i])\n",
    "    len_pitchs_test = len(pitchs_test[i])\n",
    "    \n",
    "    trim_names_test.append(names_test[i][1:len_names_test-4])\n",
    "    trim_pitchs_test.append(pitchs_test[i][9:len_pitchs_test-1])"
   ]
  },
  {
   "cell_type": "code",
   "execution_count": 17,
   "id": "c2b60dbe-09ab-41ef-ad48-7110d26d8705",
   "metadata": {},
   "outputs": [],
   "source": [
    "dict_train = []\n",
    "dict_test = []\n",
    "\n",
    "for i in range(len(names_train)):\n",
    "    dict_train.append(trim_names_train[i]+':'+trim_pitchs_train[i]+' ')\n",
    "    \n",
    "for i in range(len(names_test)):\n",
    "    dict_test.append(trim_names_test[i]+':'+trim_pitchs_test[i]+' ')"
   ]
  },
  {
   "cell_type": "code",
   "execution_count": 18,
   "id": "49386721-11d3-4fd1-99ac-dce0e234513d",
   "metadata": {},
   "outputs": [],
   "source": [
    "with open(ref_path+'/dict_train.txt', mode='w') as f:\n",
    "    f.writelines(dict_train)\n",
    "    \n",
    "with open(ref_path+'/dict_test.txt', mode='w') as f:\n",
    "    f.writelines(dict_test)"
   ]
  },
  {
   "cell_type": "code",
   "execution_count": 20,
   "id": "15bc5238-afc5-44c5-ba63-040c249c2e82",
   "metadata": {},
   "outputs": [
    {
     "name": "stdout",
     "output_type": "stream",
     "text": [
      "keyboard_electronic_001-021-127:21  keyboard_electronic_089-044-100:44 \n",
      "keyboard_electronic_001-063-075:63  keyboard_acoustic_010-084-127:84 \n",
      "keyboard_electronic_098-023-050:23  keyboard_acoustic_011-053-127:53 \n",
      "keyboard_acoustic_004-058-127:58  keyboard_electronic_100-040-025:40 \n",
      "keyboard_electronic_069-052-127:52  keyboard_electronic_065-069-025:69 \n",
      "keyboard_electronic_098-037-050:37  keyboard_electronic_087-092-050:92 \n",
      "keyboard_electronic_002-072-075:72  keyboard_electronic_097-047-075:47 \n",
      "keyboard_synthetic_000-084-050:84  keyboard_acoustic_009-108-100:108 \n",
      "keyboard_electronic_003-066-025:66  keyboard_electronic_005-078-127:78 \n",
      "keyboard_electronic_002-101-025:101  keyboard_electronic_085-097-100:97 \n"
     ]
    }
   ],
   "source": [
    "for i in range(0, 10):\n",
    "    print(dict_test[i], dict_train[i])"
   ]
  }
 ],
 "metadata": {
  "kernelspec": {
   "display_name": "Python 3 (ipykernel)",
   "language": "python",
   "name": "python3"
  },
  "language_info": {
   "codemirror_mode": {
    "name": "ipython",
    "version": 3
   },
   "file_extension": ".py",
   "mimetype": "text/x-python",
   "name": "python",
   "nbconvert_exporter": "python",
   "pygments_lexer": "ipython3",
   "version": "3.9.5"
  }
 },
 "nbformat": 4,
 "nbformat_minor": 5
}
